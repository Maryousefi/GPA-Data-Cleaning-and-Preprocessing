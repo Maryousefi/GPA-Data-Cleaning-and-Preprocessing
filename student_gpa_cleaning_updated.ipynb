{
 "cells": [
  {
   "cell_type": "markdown",
   "id": "96b227ab",
   "metadata": {},
   "source": [
    "# GPA Data Cleaning and Preprocessing\n",
    "This notebook demonstrates how to load, clean, and explore a student GPA dataset downloaded from Kaggle. The objective is to prepare the dataset for potential use in analysis or machine learning tasks."
   ]
  },
  {
   "cell_type": "code",
   "execution_count": null,
   "id": "5f30e8f9",
   "metadata": {},
   "outputs": [],
   "source": [
    "import pandas as pd\n",
    "import numpy as np\n",
    "import matplotlib.pyplot as plt\n",
    "import seaborn as sns\n",
    "import os\n",
    "import warnings\n",
    "\n",
    "warnings.filterwarnings(\"ignore\")"
   ]
  },
  {
   "cell_type": "markdown",
   "id": "4a260249",
   "metadata": {},
   "source": [
    "## Helper Functions"
   ]
  },
  {
   "cell_type": "code",
   "execution_count": null,
   "id": "96fe78b2",
   "metadata": {},
   "outputs": [],
   "source": [
    "def drop_unnecessary_columns(df, columns_to_drop):\n",
    "    \"\"\"Drop specified columns from DataFrame.\"\"\"\n",
    "    return df.drop(columns=columns_to_drop, errors='ignore')\n",
    "\n",
    "def clean_missing_ids(df, id_column):\n",
    "    \"\"\"Remove rows with missing values in the ID column.\"\"\"\n",
    "    return df[df[id_column].notna()]"
   ]
  },
  {
   "cell_type": "markdown",
   "id": "ad3c97b0",
   "metadata": {},
   "source": [
    "## Load Dataset from Kaggle"
   ]
  },
  {
   "cell_type": "code",
   "execution_count": null,
   "id": "1e704532",
   "metadata": {},
   "outputs": [],
   "source": [
    "import kagglehub\n",
    "\n",
    "# Download the dataset\n",
    "path = kagglehub.dataset_download(\"mohammadalazawi/student-gpa\")\n",
    "print(\"Dataset files located at:\", path)\n",
    "\n",
    "# Load the dataset\n",
    "file_path = os.path.join(path, 'GPA.csv')\n",
    "df = pd.read_csv(file_path)\n",
    "df.head()"
   ]
  },
  {
   "cell_type": "markdown",
   "id": "764e6928",
   "metadata": {},
   "source": [
    "## Data Cleaning and Preprocessing"
   ]
  },
  {
   "cell_type": "code",
   "execution_count": null,
   "id": "c8b421b7",
   "metadata": {},
   "outputs": [],
   "source": [
    "columns_to_drop = ['Unnamed: 0']\n",
    "df = drop_unnecessary_columns(df, columns_to_drop)\n",
    "df = clean_missing_ids(df, 'student_id') if 'student_id' in df.columns else df\n",
    "df.reset_index(drop=True, inplace=True)\n",
    "df.head()"
   ]
  },
  {
   "cell_type": "markdown",
   "id": "efc8385b",
   "metadata": {},
   "source": [
    "## Exploratory Data Analysis"
   ]
  },
  {
   "cell_type": "code",
   "execution_count": null,
   "id": "2c34dad0",
   "metadata": {},
   "outputs": [],
   "source": [
    "# Visualize missing values\n",
    "missing = df.isnull().sum()\n",
    "missing = missing[missing > 0]\n",
    "missing.sort_values().plot(kind='barh', figsize=(8, 4), title='Missing Values per Column')\n",
    "plt.grid(True)\n",
    "plt.tight_layout()\n",
    "plt.show()"
   ]
  },
  {
   "cell_type": "code",
   "execution_count": null,
   "id": "0ec01460",
   "metadata": {},
   "outputs": [],
   "source": [
    "# GPA distribution plot\n",
    "if 'GPA' in df.columns:\n",
    "    sns.set_theme(style=\"whitegrid\")\n",
    "    sns.histplot(df['GPA'], kde=True, bins=20)\n",
    "    plt.title('Distribution of GPA')\n",
    "    plt.xlabel('GPA')\n",
    "    plt.ylabel('Frequency')\n",
    "    plt.grid(True)\n",
    "    plt.tight_layout()\n",
    "    plt.show()"
   ]
  },
  {
   "cell_type": "code",
   "execution_count": null,
   "id": "28c75f67",
   "metadata": {},
   "outputs": [],
   "source": [
    "# Count of students by semester\n",
    "if 'semester' in df.columns:\n",
    "    df['semester'].value_counts().sort_index().plot(kind='bar')\n",
    "    plt.title('Student Count per Semester')\n",
    "    plt.xlabel('Semester')\n",
    "    plt.ylabel('Number of Students')\n",
    "    plt.grid(True)\n",
    "    plt.tight_layout()\n",
    "    plt.show()"
   ]
  },
  {
   "cell_type": "markdown",
   "id": "3c3a923e",
   "metadata": {},
   "source": [
    "## Export Cleaned Data"
   ]
  },
  {
   "cell_type": "code",
   "execution_count": null,
   "id": "bcad6a2e",
   "metadata": {},
   "outputs": [],
   "source": [
    "output_path = 'cleaned_data.csv'\n",
    "df.to_csv(output_path, index=False)\n",
    "print(f'Data saved to {os.path.abspath(output_path)}')"
   ]
  }
 ],
 "metadata": {},
 "nbformat": 4,
 "nbformat_minor": 5
}
