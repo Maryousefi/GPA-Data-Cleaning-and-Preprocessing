{
 "cells": [
  {
   "cell_type": "markdown",
   "id": "0d6ce875",
   "metadata": {},
   "source": [
    "# 🎓 GPA Data Cleaning and Preprocessing\n",
    "This notebook handles cleaning and exploration of student GPA data, originally sourced from Excel files. The goal is to create a clean dataset suitable for further analysis or machine learning."
   ]
  },
  {
   "cell_type": "code",
   "execution_count": null,
   "id": "ff919514",
   "metadata": {},
   "outputs": [],
   "source": [
    "import pandas as pd\n",
    "import numpy as np\n",
    "import matplotlib.pyplot as plt\n",
    "import seaborn as sns\n",
    "import os"
   ]
  },
  {
   "cell_type": "markdown",
   "id": "6bbb2606",
   "metadata": {},
   "source": [
    "## 🧩 Helper Functions"
   ]
  },
  {
   "cell_type": "code",
   "execution_count": null,
   "id": "490c0a23",
   "metadata": {},
   "outputs": [],
   "source": [
    "# Define your reusable functions here\n",
    "def load_excel_file(path):\n",
    "    return pd.read_excel(path)\n",
    "\n",
    "def drop_unnecessary_columns(df, columns_to_drop):\n",
    "    return df.drop(columns=columns_to_drop, errors='ignore')\n",
    "\n",
    "def clean_missing_ids(df, id_column):\n",
    "    return df[df[id_column].notna()]"
   ]
  },
  {
   "cell_type": "markdown",
   "id": "719fe003",
   "metadata": {},
   "source": [
    "## 📥 Load Raw Data"
   ]
  },
  {
   "cell_type": "code",
   "execution_count": null,
   "id": "4aa0f62b",
   "metadata": {},
   "outputs": [],
   "source": [
    "# Load your raw Excel file\n",
    "file_path = 'your_excel_file.xlsx'  # Update with your actual file path\n",
    "df = load_excel_file(file_path)\n",
    "df.head()"
   ]
  },
  {
   "cell_type": "markdown",
   "id": "76501827",
   "metadata": {},
   "source": [
    "## 🧼 Data Cleaning and Preprocessing"
   ]
  },
  {
   "cell_type": "code",
   "execution_count": null,
   "id": "37ec8f28",
   "metadata": {},
   "outputs": [],
   "source": [
    "# Drop unnecessary columns and rows with missing student IDs\n",
    "columns_to_drop = ['Unnamed: 0', 'ExtraColumn']  # Add/remove as needed\n",
    "df = drop_unnecessary_columns(df, columns_to_drop)\n",
    "df = clean_missing_ids(df, 'student_id')\n",
    "df.reset_index(drop=True, inplace=True)\n",
    "df.head()"
   ]
  },
  {
   "cell_type": "markdown",
   "id": "5cdef00a",
   "metadata": {},
   "source": [
    "## 📊 Exploratory Data Analysis"
   ]
  },
  {
   "cell_type": "code",
   "execution_count": null,
   "id": "94d3edeb",
   "metadata": {},
   "outputs": [],
   "source": [
    "# Missing values bar plot\n",
    "missing = df.isnull().sum()\n",
    "missing = missing[missing > 0]\n",
    "missing.sort_values().plot(kind='barh', figsize=(8, 4), title='Missing Values per Column')\n",
    "plt.tight_layout()\n",
    "plt.show()"
   ]
  },
  {
   "cell_type": "code",
   "execution_count": null,
   "id": "d75bfcf4",
   "metadata": {},
   "outputs": [],
   "source": [
    "# GPA distribution\n",
    "if 'GPA' in df.columns:\n",
    "    sns.histplot(df['GPA'], kde=True, bins=20)\n",
    "    plt.title('GPA Distribution')\n",
    "    plt.xlabel('GPA')\n",
    "    plt.ylabel('Count')\n",
    "    plt.tight_layout()\n",
    "    plt.show()"
   ]
  },
  {
   "cell_type": "code",
   "execution_count": null,
   "id": "790ccca9",
   "metadata": {},
   "outputs": [],
   "source": [
    "# Count by semester (example)\n",
    "if 'semester' in df.columns:\n",
    "    df['semester'].value_counts().sort_index().plot(kind='bar')\n",
    "    plt.title('Student Count by Semester')\n",
    "    plt.xlabel('Semester')\n",
    "    plt.ylabel('Number of Students')\n",
    "    plt.tight_layout()\n",
    "    plt.show()"
   ]
  },
  {
   "cell_type": "markdown",
   "id": "9d866d99",
   "metadata": {},
   "source": [
    "## 💾 Export Cleaned Data"
   ]
  },
  {
   "cell_type": "code",
   "execution_count": null,
   "id": "cef67f85",
   "metadata": {},
   "outputs": [],
   "source": [
    "# Save the cleaned dataframe\n",
    "output_path = 'cleaned_data.xlsx'\n",
    "df.to_excel(output_path, index=False)\n",
    "print(f'Data saved to {output_path}')"
   ]
  },
  {
   "cell_type": "markdown",
   "id": "16a057f7",
   "metadata": {},
   "source": [
    "## 🚀 Next Steps\n",
    "- Perform deeper analysis (e.g., GPA trends, course difficulty)\n",
    "- Engineer new features\n",
    "- Apply ML models to predict student success"
   ]
  }
 ],
 "metadata": {
  "colab": {
   "collapsed_sections": [
    "28541299"
   ],
   "provenance": []
  },
  "kernelspec": {
   "display_name": "Python 3",
   "name": "python3"
  },
  "language_info": {
   "name": "python"
  }
 },
 "nbformat": 4,
 "nbformat_minor": 5
}
