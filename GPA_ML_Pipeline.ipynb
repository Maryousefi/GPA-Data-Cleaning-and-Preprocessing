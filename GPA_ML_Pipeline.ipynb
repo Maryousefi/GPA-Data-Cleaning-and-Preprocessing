{
 "cells": [
  {
   "cell_type": "markdown",
   "id": "b16769d9",
   "metadata": {},
   "source": [
    "# GPA Data Cleaning, Exploration, and Machine Learning Pipeline\n",
    "This notebook performs a complete data science pipeline including loading, cleaning, exploring, feature engineering, and building a machine learning model to predict student GPA."
   ]
  },
  {
   "cell_type": "code",
   "execution_count": null,
   "id": "6ee6fc9c",
   "metadata": {},
   "outputs": [],
   "source": [
    "import pandas as pd\n",
    "import numpy as np\n",
    "import matplotlib.pyplot as plt\n",
    "import seaborn as sns\n",
    "from sklearn.model_selection import train_test_split\n",
    "from sklearn.pipeline import Pipeline\n",
    "from sklearn.ensemble import RandomForestRegressor\n",
    "from sklearn.metrics import mean_squared_error, r2_score\n",
    "import os\n",
    "import warnings\n",
    "import kagglehub\n",
    "\n",
    "warnings.filterwarnings(\"ignore\")\n"
   ]
  },
  {
   "cell_type": "markdown",
   "id": "07c19a33",
   "metadata": {},
   "source": [
    "## Helper Functions"
   ]
  },
  {
   "cell_type": "code",
   "execution_count": null,
   "id": "08fc8e06",
   "metadata": {},
   "outputs": [],
   "source": [
    "def drop_unnecessary_columns(df):\n",
    "    \"\"\"Drop columns that are unnamed or unnecessary for analysis.\"\"\"\n",
    "    return df.drop(columns=[col for col in df.columns if 'Unnamed' in col], errors='ignore')\n",
    "\n",
    "def clean_missing_ids(df, id_column):\n",
    "    \"\"\"Remove rows where the ID column is missing.\"\"\"\n",
    "    return df[df[id_column].notna()]\n",
    "\n",
    "def clean_and_validate_gpa(df):\n",
    "    \"\"\"Ensure GPA values are within a valid range (0 to 4.0).\"\"\"\n",
    "    return df[df['GPA'].between(0, 4.0)]\n"
   ]
  },
  {
   "cell_type": "markdown",
   "id": "6e6f2678",
   "metadata": {},
   "source": [
    "## Load Dataset"
   ]
  },
  {
   "cell_type": "code",
   "execution_count": null,
   "id": "cec59150",
   "metadata": {},
   "outputs": [],
   "source": [
    "path = kagglehub.dataset_download(\"mohammadalazawi/student-gpa\")\n",
    "print(\"Dataset files located at:\", path)\n",
    "file_path = os.path.join(path, 'GPA.csv')\n",
    "df = pd.read_csv(file_path)\n"
   ]
  },
  {
   "cell_type": "markdown",
   "id": "474ee7aa",
   "metadata": {},
   "source": [
    "## Data Cleaning"
   ]
  },
  {
   "cell_type": "code",
   "execution_count": null,
   "id": "4e355bd7",
   "metadata": {},
   "outputs": [],
   "source": [
    "df = drop_unnecessary_columns(df)\n",
    "df = clean_missing_ids(df, 'student_id') if 'student_id' in df.columns else df\n",
    "df = clean_and_validate_gpa(df)\n",
    "df.reset_index(drop=True, inplace=True)\n"
   ]
  },
  {
   "cell_type": "markdown",
   "id": "4506a64b",
   "metadata": {},
   "source": [
    "## Feature Engineering"
   ]
  },
  {
   "cell_type": "code",
   "execution_count": null,
   "id": "71b0ab69",
   "metadata": {},
   "outputs": [],
   "source": [
    "if 'semester' in df.columns:\n",
    "    df['semester'] = df['semester'].astype(str)\n",
    "    df['semester_num'] = df['semester'].str.extract(r'(\\d+)').astype(float)\n",
    "\n",
    "if 'student_id' in df.columns and 'GPA' in df.columns:\n",
    "    df['cumulative_gpa'] = df.groupby('student_id')['GPA'].expanding().mean().reset_index(level=0, drop=True)\n"
   ]
  },
  {
   "cell_type": "markdown",
   "id": "b1de3ca0",
   "metadata": {},
   "source": [
    "## Exploratory Data Analysis"
   ]
  },
  {
   "cell_type": "code",
   "execution_count": null,
   "id": "1427d8ae",
   "metadata": {},
   "outputs": [],
   "source": [
    "sns.set(style=\"whitegrid\")\n",
    "\n",
    "# Correlation Heatmap\n",
    "plt.figure(figsize=(10,6))\n",
    "sns.heatmap(df.corr(numeric_only=True), annot=True, cmap='coolwarm')\n",
    "plt.title(\"Correlation Matrix\")\n",
    "plt.show()\n",
    "\n",
    "# GPA Distribution\n",
    "sns.histplot(df['GPA'], kde=True, bins=20)\n",
    "plt.title('Distribution of GPA')\n",
    "plt.xlabel('GPA')\n",
    "plt.ylabel('Frequency')\n",
    "plt.tight_layout()\n",
    "plt.show()\n",
    "\n",
    "# GPA by Semester\n",
    "if 'semester_num' in df.columns:\n",
    "    sns.lineplot(data=df.groupby('semester_num')['GPA'].mean().reset_index(), x='semester_num', y='GPA')\n",
    "    plt.title('Average GPA by Semester')\n",
    "    plt.xlabel('Semester')\n",
    "    plt.ylabel('Average GPA')\n",
    "    plt.tight_layout()\n",
    "    plt.show()\n"
   ]
  },
  {
   "cell_type": "markdown",
   "id": "a9c10254",
   "metadata": {},
   "source": [
    "## Machine Learning Model: GPA Prediction"
   ]
  },
  {
   "cell_type": "code",
   "execution_count": null,
   "id": "d88e3cba",
   "metadata": {},
   "outputs": [],
   "source": [
    "if 'semester_num' in df.columns and 'cumulative_gpa' in df.columns:\n",
    "    model_df = df.dropna(subset=['GPA', 'semester_num', 'cumulative_gpa'])\n",
    "\n",
    "    model_df = model_df.groupby('student_id').agg({\n",
    "        'semester_num': 'max',\n",
    "        'cumulative_gpa': 'last',\n",
    "        'GPA': 'last'\n",
    "    }).rename(columns={'GPA': 'final_GPA'})\n",
    "\n",
    "    X = model_df.drop(columns=['final_GPA'])\n",
    "    y = model_df['final_GPA']\n",
    "\n",
    "    X_train, X_test, y_train, y_test = train_test_split(X, y, test_size=0.2, random_state=42)\n",
    "\n",
    "    pipeline = Pipeline([\n",
    "        ('model', RandomForestRegressor(n_estimators=100, random_state=42))\n",
    "    ])\n",
    "\n",
    "    pipeline.fit(X_train, y_train)\n",
    "    preds = pipeline.predict(X_test)\n",
    "\n",
    "    rmse = mean_squared_error(y_test, preds, squared=False)\n",
    "    r2 = r2_score(y_test, preds)\n",
    "    print(f\"Test RMSE: {rmse:.3f}\")\n",
    "    print(f\"Test R^2 Score: {r2:.3f}\")\n",
    "\n",
    "    sns.residplot(x=preds, y=y_test - preds, lowess=True)\n",
    "    plt.title('Residual Plot')\n",
    "    plt.xlabel('Predicted GPA')\n",
    "    plt.ylabel('Residuals')\n",
    "    plt.tight_layout()\n",
    "    plt.show()\n",
    "else:\n",
    "    print(\"Required features 'semester_num' and/or 'cumulative_gpa' are missing. Skipping ML model training.\")\n"
   ]
  },
  {
   "cell_type": "markdown",
   "id": "7d1e4896",
   "metadata": {},
   "source": [
    "## Export Cleaned Data"
   ]
  },
  {
   "cell_type": "code",
   "execution_count": null,
   "id": "0f583537",
   "metadata": {},
   "outputs": [],
   "source": [
    "output_path = 'cleaned_data.csv'\n",
    "df.to_csv(output_path, index=False)\n",
    "print(f'Data saved to {os.path.abspath(output_path)}')\n"
   ]
  }
 ],
 "metadata": {},
 "nbformat": 4,
 "nbformat_minor": 5
}
